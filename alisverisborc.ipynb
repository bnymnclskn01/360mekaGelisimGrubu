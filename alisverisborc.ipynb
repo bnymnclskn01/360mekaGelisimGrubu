{
 "cells": [
  {
   "cell_type": "code",
   "execution_count": 2,
   "id": "55f1f9a8",
   "metadata": {},
   "outputs": [],
   "source": [
    "import pandas as pd"
   ]
  },
  {
   "cell_type": "code",
   "execution_count": 3,
   "id": "c4117106",
   "metadata": {},
   "outputs": [],
   "source": [
    "data = {\"Müşteri Adı\":[\"Ayşe\",\"Mehmet\",\"Nilgün\",\"Zeynep\"],\n",
    "        \"Yaptığı Toplam Alışveriş\":[4321,1015,3452,2404],\n",
    "        \"Ödediği Toplam Miktar\":[4300,1015,3240,2295]}\n",
    "df1 = pd.DataFrame(data)\n",
    "df1[\"Bakiye Borç\"] = df1[\"Yaptığı Toplam Alışveriş\"] - df1[\"Ödediği Toplam Miktar\"]\n",
    "df1.sort_values(\"Müşteri Adı\", ascending = True, ignore_index=True , inplace = True)\n",
    "df1.to_csv(\"alisveris.csv\", index = False)"
   ]
  },
  {
   "cell_type": "code",
   "execution_count": 6,
   "id": "60c7e585",
   "metadata": {},
   "outputs": [
    {
     "name": "stdout",
     "output_type": "stream",
     "text": [
      "Lütfen Müşterinin Adını Giriniz: Mehmet\n",
      "Yaptığı Toplam Alışveriş    1015\n",
      "Ödediği Toplam Miktar       1015\n",
      "Bakiye Borç                    0\n",
      "Name: Mehmet, dtype: int64\n",
      "Lütfen alışveriş yaptıktan sonra borcunuzu ödeyiniz borcunuz 0 TL'dir. \n",
      "Lütfen Müşterinin Yaptığı Alışveri Tutarını Giriniz: 500\n",
      "Lütfen Müşterinin Ödeme Yaptığı Tutarı Giriniz: 100\n",
      "400 Tl borcunuz bulunmaktadır. Bizi tercih etttiğini için teşekkür ederiz. Bir sonraki alışverişinizde ödemenizi rica ederiz.\n"
     ]
    }
   ],
   "source": [
    "df = pd.read_csv(\"alisveris.csv\")\n",
    "\n",
    "musteri = input(\"Lütfen Müşterinin Adını Giriniz: \")\n",
    "if musteri in df[\"Müşteri Adı\"].values:\n",
    "    df.set_index(\"Müşteri Adı\", inplace = True)\n",
    "    print(df.loc[musteri])\n",
    "    print(\"Lütfen alışveriş yaptıktan sonra borcunuzu ödeyiniz borcunuz {} TL'dir. \".format(df.loc[musteri][2]))\n",
    "    alisveris = int(input(\"Lütfen Müşterinin Yaptığı Alışveri Tutarını Giriniz: \"))\n",
    "    odeme = int(input(\"Lütfen Müşterinin Ödeme Yaptığı Tutarı Giriniz: \"))\n",
    "    df.loc[musteri][0] = df.loc[musteri][0] + alisveris\n",
    "    df.loc[musteri][1] = df.loc[musteri][1] + odeme\n",
    "    df.loc[musteri][2] = df.loc[musteri][0] - df.loc[musteri][1]\n",
    "    df.to_csv(\"alisveris.csv\", index = True)\n",
    "    if df.loc[musteri][2] == 0:\n",
    "        print(\"Borcunuz bulunmamaktadır. Bizi tercih etttiğini için teşekkür ederiz.\")\n",
    "    else:\n",
    "        print(\"{} Tl borcunuz bulunmaktadır. Bizi tercih etttiğini için teşekkür ederiz. Bir sonraki alışverişinizde ödemenizi rica ederiz.\".format(df.loc[musteri][2]))\n",
    "    \n",
    "else:\n",
    "    df.loc[len(df)] = [musteri,0,0,0]\n",
    "    df.sort_values(\"Müşteri Adı\", ascending = True, ignore_index=True , inplace = True)\n",
    "    df.set_index(\"Müşteri Adı\", inplace = True)\n",
    "    alisveris1 = int(input(\"Lütfen Müşterinin Yaptığı Alışveri Tutarını Giriniz: \"))\n",
    "    odeme1 = int(input(\"Lütfen Müşterinin Ödeme Yaptığı Tutarı Giriniz: \"))    \n",
    "    df.loc[musteri][0] = alisveris1\n",
    "    df.loc[musteri][1] = odeme1\n",
    "    df.loc[musteri][2] = alisveris1 - odeme1 \n",
    "    df.to_csv(\"alisveris.csv\", index = True)\n",
    "    if alisveris1 - odeme1 == 0:\n",
    "        print(\"Borcunuz bulunmamaktadır. Bizi tercih etttiğini için teşekkür ederiz.\")\n",
    "    else:\n",
    "        print(\"{} Tl borcunuz bulunmaktadır. Bizi tercih etttiğini için teşekkür ederiz. Bir sonraki alışverişinizde ödemenizi rica ederiz.\".format(alisveris1 - odeme1 ))"
   ]
  },
  {
   "cell_type": "code",
   "execution_count": 7,
   "id": "c861d6d2",
   "metadata": {},
   "outputs": [
    {
     "data": {
      "text/html": [
       "<div>\n",
       "<style scoped>\n",
       "    .dataframe tbody tr th:only-of-type {\n",
       "        vertical-align: middle;\n",
       "    }\n",
       "\n",
       "    .dataframe tbody tr th {\n",
       "        vertical-align: top;\n",
       "    }\n",
       "\n",
       "    .dataframe thead th {\n",
       "        text-align: right;\n",
       "    }\n",
       "</style>\n",
       "<table border=\"1\" class=\"dataframe\">\n",
       "  <thead>\n",
       "    <tr style=\"text-align: right;\">\n",
       "      <th></th>\n",
       "      <th>Müşteri Adı</th>\n",
       "      <th>Yaptığı Toplam Alışveriş</th>\n",
       "      <th>Ödediği Toplam Miktar</th>\n",
       "      <th>Bakiye Borç</th>\n",
       "    </tr>\n",
       "  </thead>\n",
       "  <tbody>\n",
       "    <tr>\n",
       "      <th>0</th>\n",
       "      <td>Ayşe</td>\n",
       "      <td>4321</td>\n",
       "      <td>4300</td>\n",
       "      <td>21</td>\n",
       "    </tr>\n",
       "    <tr>\n",
       "      <th>1</th>\n",
       "      <td>Berkan Kefeli</td>\n",
       "      <td>1300</td>\n",
       "      <td>1280</td>\n",
       "      <td>20</td>\n",
       "    </tr>\n",
       "    <tr>\n",
       "      <th>2</th>\n",
       "      <td>Mehmet</td>\n",
       "      <td>1515</td>\n",
       "      <td>1115</td>\n",
       "      <td>400</td>\n",
       "    </tr>\n",
       "    <tr>\n",
       "      <th>3</th>\n",
       "      <td>Nilgün</td>\n",
       "      <td>3452</td>\n",
       "      <td>3240</td>\n",
       "      <td>212</td>\n",
       "    </tr>\n",
       "    <tr>\n",
       "      <th>4</th>\n",
       "      <td>Zeynep</td>\n",
       "      <td>2404</td>\n",
       "      <td>2295</td>\n",
       "      <td>109</td>\n",
       "    </tr>\n",
       "  </tbody>\n",
       "</table>\n",
       "</div>"
      ],
      "text/plain": [
       "     Müşteri Adı  Yaptığı Toplam Alışveriş  Ödediği Toplam Miktar  Bakiye Borç\n",
       "0           Ayşe                      4321                   4300           21\n",
       "1  Berkan Kefeli                      1300                   1280           20\n",
       "2         Mehmet                      1515                   1115          400\n",
       "3         Nilgün                      3452                   3240          212\n",
       "4         Zeynep                      2404                   2295          109"
      ]
     },
     "execution_count": 7,
     "metadata": {},
     "output_type": "execute_result"
    }
   ],
   "source": [
    "df = pd.read_csv(\"alisveris.csv\")\n",
    "df"
   ]
  },
  {
   "cell_type": "code",
   "execution_count": null,
   "id": "2db8211f",
   "metadata": {},
   "outputs": [],
   "source": []
  }
 ],
 "metadata": {
  "kernelspec": {
   "display_name": "Python 3",
   "language": "python",
   "name": "python3"
  },
  "language_info": {
   "codemirror_mode": {
    "name": "ipython",
    "version": 3
   },
   "file_extension": ".py",
   "mimetype": "text/x-python",
   "name": "python",
   "nbconvert_exporter": "python",
   "pygments_lexer": "ipython3",
   "version": "3.8.8"
  }
 },
 "nbformat": 4,
 "nbformat_minor": 5
}
